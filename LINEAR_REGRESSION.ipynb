{
  "nbformat": 4,
  "nbformat_minor": 0,
  "metadata": {
    "colab": {
      "provenance": []
    },
    "kernelspec": {
      "name": "python3",
      "display_name": "Python 3"
    },
    "language_info": {
      "name": "python"
    }
  },
  "cells": [
    {
      "cell_type": "code",
      "source": [
        "import numpy as np\n",
        "\n",
        "def linear_regression(X, y):\n",
        "  \"\"\"\n",
        "  This function performs linear regression using the closed-form solution.\n",
        "\n",
        "  Args:\n",
        "      X: A 2D array representing the independent features (each row is a data point).\n",
        "      y: A 1D array representing the dependent variable (target values).\n",
        "\n",
        "  Returns:\n",
        "      A tuple containing the slope (beta_1) and intercept (beta_0) of the regression line.\n",
        "  \"\"\"\n",
        "\n",
        "  # Calculate the mean of features and target\n",
        "  X_mean = np.mean(X, axis=0)\n",
        "  y_mean = np.mean(y)\n",
        "\n",
        "  # Center the data (optional but can improve numerical stability)\n",
        "  X_centered = X - X_mean\n",
        "  y_centered = y - y_mean\n",
        "\n",
        "  # Calculate the slope (beta_1) (slope =(y₂ - y₁)/(x₂ - x₁))\n",
        "  beta_1 = np.dot(X_centered.T, y_centered) / np.dot(X_centered.T, X_centered)\n",
        "\n",
        "  # Calculate the intercept (beta_0)\n",
        "  beta_0 = y_mean - beta_1 * X_mean\n",
        "\n",
        "  return beta_0, beta_1\n",
        "\n",
        "# Example usage (replace with your actual data)\n",
        "X = np.array([[1], [2], [3], [4], [5]])\n",
        "y = np.array([2, 4, 5, 4, 5])\n",
        "\n",
        "# Perform linear regression\n",
        "beta_0, beta_1 = linear_regression(X, y)\n",
        "\n",
        "# Print the results\n",
        "print(\"Slope (beta_1):\", beta_1)\n",
        "print(\"Intercept (beta_0):\", beta_0)\n",
        "\n",
        "# Predict a new value for x = 6\n",
        "new_x = 6\n",
        "predicted_y = beta_0 + beta_1 * new_x\n",
        "print(\"Predicted y for x =\", new_x, \":\", predicted_y)\n"
      ],
      "metadata": {
        "colab": {
          "base_uri": "https://localhost:8080/"
        },
        "id": "2QpevGG0G3vp",
        "outputId": "c0cb3ee6-d75b-4d52-9621-c57537aca4a6"
      },
      "execution_count": 1,
      "outputs": [
        {
          "output_type": "stream",
          "name": "stdout",
          "text": [
            "Slope (beta_1): [[0.6]]\n",
            "Intercept (beta_0): [[2.2]]\n",
            "Predicted y for x = 6 : [[5.8]]\n"
          ]
        }
      ]
    },
    {
      "cell_type": "code",
      "source": [
        "predicted_y = beta_0 + beta_1 * 2\n",
        "print(\"Predicted y for x =\", new_x, \":\", predicted_y)\n"
      ],
      "metadata": {
        "colab": {
          "base_uri": "https://localhost:8080/"
        },
        "id": "li4j7IavHITK",
        "outputId": "81b7b9e1-6084-43c5-8625-4c9551298cc1"
      },
      "execution_count": 3,
      "outputs": [
        {
          "output_type": "stream",
          "name": "stdout",
          "text": [
            "Predicted y for x = 6 : [[3.4]]\n"
          ]
        }
      ]
    },
    {
      "cell_type": "markdown",
      "source": [
        "<H1>lINEAR REGRESSION USING SKLEARN </H1>"
      ],
      "metadata": {
        "id": "RYSvP-DwJC-E"
      }
    },
    {
      "cell_type": "code",
      "source": [
        "from sklearn.linear_model import LinearRegression\n",
        "from sklearn.datasets import load_iris\n",
        "\n",
        "# Load the Boston house price dataset\n",
        "IRIS = load_iris()\n",
        "X = IRIS.data  # Features\n",
        "y = IRIS.target  # Target variable (house prices)\n",
        "\n",
        "# Create a linear regression model\n",
        "model = LinearRegression()\n",
        "\n",
        "# Train the model\n",
        "model.fit(X, y)\n",
        "\n",
        "# Make predictions on new data (optional)\n",
        "# ... (replace with your new data for prediction)\n",
        "\n",
        "# Print the intercept and coefficients\n",
        "print(\"Intercept:\", model.intercept_)\n",
        "print(\"Coefficients:\", model.coef_)\n",
        "\n"
      ],
      "metadata": {
        "colab": {
          "base_uri": "https://localhost:8080/"
        },
        "id": "mrDhmwlkHV_h",
        "outputId": "339daf4c-88d3-4c5f-e831-9a6f1a6a77d0"
      },
      "execution_count": 5,
      "outputs": [
        {
          "output_type": "stream",
          "name": "stdout",
          "text": [
            "Intercept: 0.186495247206249\n",
            "Coefficients: [-0.11190585 -0.04007949  0.22864503  0.60925205]\n"
          ]
        }
      ]
    },
    {
      "cell_type": "code",
      "source": [],
      "metadata": {
        "id": "s2G6_sRmJ7B2"
      },
      "execution_count": null,
      "outputs": []
    },
    {
      "cell_type": "markdown",
      "source": [
        "R-squared is a statistical metric that represents the proportion of variance in the dependent variable (y) that can be explained by the independent variables (X) in the linear regression model.\n",
        "It ranges from 0 to 1, where:\n",
        "0 indicates the model explains none of the variance (terrible fit).\n",
        "1 indicates the model explains all of the variance (perfect fit, which can be rare in real-world data).\n",
        "Generally, a higher R-squared value signifies a better fit, but it's important to consider the context of your problem and the complexity of the data."
      ],
      "metadata": {
        "id": "PpYDef5eJ8A5"
      }
    },
    {
      "cell_type": "code",
      "source": [
        "from sklearn.metrics import r2_score\n",
        "\n",
        "# ... (your linear regression model training code)\n",
        "\n",
        "# Evaluate R-squared\n",
        "r_squared = r2_score(y, model.predict(X))\n",
        "print(\"R-squared:\", r_squared)\n"
      ],
      "metadata": {
        "colab": {
          "base_uri": "https://localhost:8080/"
        },
        "id": "PXdhjJqjJKUS",
        "outputId": "f4590006-ebd0-4b6f-b4e7-ac28a2d6c20d"
      },
      "execution_count": 6,
      "outputs": [
        {
          "output_type": "stream",
          "name": "stdout",
          "text": [
            "R-squared: 0.9303939218549564\n"
          ]
        }
      ]
    },
    {
      "cell_type": "code",
      "source": [],
      "metadata": {
        "id": "H9NNVKS1JrYh"
      },
      "execution_count": null,
      "outputs": []
    }
  ]
}