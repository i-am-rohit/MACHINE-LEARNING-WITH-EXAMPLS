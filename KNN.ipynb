{
  "nbformat": 4,
  "nbformat_minor": 0,
  "metadata": {
    "colab": {
      "provenance": []
    },
    "kernelspec": {
      "name": "python3",
      "display_name": "Python 3"
    },
    "language_info": {
      "name": "python"
    }
  },
  "cells": [
    {
      "cell_type": "markdown",
      "source": [
        "K-Nearest Neighbors (KNN) is a supervised learning algorithm widely used for both classification and regression tasks. It's a non-parametric method, meaning it doesn't make any assumptions about the underlying data distribution. Here's a breakdown of how KNN works:<br><br>\n",
        "\n",
        "Core Idea:\n",
        "\n",
        "Distance Metric: KNN relies on a distance metric (e.g., Euclidean distance) to determine how similar data points are. This metric calculates the distance between a new data point and existing data points in the training set.<br><br>\n",
        "K Neighbors: The algorithm identifies the K closest data points (neighbors) to the new data point based on the chosen distance metric. The value of K is a hyperparameter that needs to be tuned for optimal performance.<br><br>\n",
        "Prediction (Classification):\n",
        "For classification problems, the most frequent class label among the K nearest neighbors is assigned as the predicted class for the new data point. In essence, the new data point is classified based on the majority vote of its neighbors.<br><br>\n",
        "Prediction (Regression):\n",
        "For regression problems, the average value of the target variable among the K nearest neighbors is used as the predicted value for the new data point."
      ],
      "metadata": {
        "id": "ESkGcQiyDPeP"
      }
    },
    {
      "cell_type": "code",
      "source": [
        "import matplotlib.pyplot as plt\n",
        "from math import sqrt\n",
        "\n",
        "# Sample data (replace with your data)\n",
        "X = [[1, 2], [3, 4], [1.5, 1.8], [5, 8], [8, 8], [1, 0.6], [9, 11]]\n",
        "y = ['red', 'green', 'red', 'green', 'green', 'red', 'green']  # Class labels\n",
        "\n",
        "def euclidean_distance(p1, p2):\n",
        "  \"\"\"Calculates the Euclidean distance between two data points (p1 and p2).\"\"\"\n",
        "  squared_distances = [(a - b) ** 2 for a, b in zip(p1, p2)]\n",
        "  return sqrt(sum(squared_distances))\n",
        "\n",
        "def predict_class(X_train, y_train, test_point, k):\n",
        "  \"\"\"Predicts the class label for a test point using KNN with Euclidean distance.\"\"\"\n",
        "  distances = []\n",
        "  for train_point, train_label in zip(X_train, y_train):\n",
        "    distance = euclidean_distance(test_point, train_point)\n",
        "    distances.append((distance, train_label))\n",
        "  sorted_distances = sorted(distances)[:k]  # Get k nearest neighbors\n",
        "  neighbor_labels = [label for distance, label in sorted_distances]\n",
        "  most_frequent_label = max(set(neighbor_labels), key=neighbor_labels.count)\n",
        "  return most_frequent_label\n",
        "\n",
        "# Define a test point to predict (replace with your actual test point)\n",
        "test_point = [6, 5]\n",
        "\n",
        "# Visualization setup\n",
        "colors = {'red': 'r', 'green': 'g'}  # Define colors for classes\n",
        "\n",
        "# Plot data points with colors based on class labels\n",
        "plt.scatter([x[0] for x in X], [x[1] for x in X], c=[colors[l] for l in y])\n",
        "\n",
        "# Plot the test point in a different color (e.g., blue)\n",
        "plt.scatter(test_point[0], test_point[1], color='blue', marker='o', label='Test Point')\n",
        "\n",
        "# K value (choose an appropriate value for K based on your data)\n",
        "k = 3\n",
        "\n",
        "# Predict class label for the test point\n",
        "predicted_label = predict_class(X, y, test_point, k)\n",
        "\n",
        "# Plot a circle around the K nearest neighbors (optional)\n",
        "# ... (implementation details for plotting the circle based on K nearest neighbors)\n",
        "\n",
        "# Add labels and title\n",
        "plt.xlabel('Feature 1')\n",
        "plt.ylabel('Feature 2')\n",
        "plt.title(f'KNN Prediction (Predicted Class: {predicted_label}, K={k})')\n",
        "plt.legend()\n",
        "plt.show()\n"
      ],
      "metadata": {
        "id": "KCl-fUPkwisy",
        "outputId": "ee644c63-16df-409d-cad3-15067b272b53",
        "colab": {
          "base_uri": "https://localhost:8080/",
          "height": 472
        }
      },
      "execution_count": 4,
      "outputs": [
        {
          "output_type": "display_data",
          "data": {
            "text/plain": [
              "<Figure size 640x480 with 1 Axes>"
            ],
            "image/png": "[encoded data removed]"
          },
          "metadata": {}
        }
      ]
    },
    {
      "cell_type": "markdown",
      "source": [
        "KNN USING SKLEARN"
      ],
      "metadata": {
        "id": "9qOyIAl21Xan"
      }
    },
    {
      "cell_type": "code",
      "source": [
        "from sklearn.neighbors import KNeighborsClassifier\n",
        "from sklearn.datasets import load_iris\n",
        "from sklearn.model_selection import train_test_split\n",
        "from sklearn.metrics import confusion_matrix\n",
        "\n",
        "# Load the Iris flower classification dataset\n",
        "iris = load_iris()\n",
        "X = iris.data  # Features\n",
        "y = iris.target  # Target variable (flower type)\n",
        "\n",
        "# Split data into training and testing sets\n",
        "X_train, X_test, y_train, y_test = train_test_split(X, y, test_size=0.2, random_state=42)\n",
        "\n",
        "# Create a K-Nearest Neighbors classifier model with 5 neighbors\n",
        "knn = KNeighborsClassifier(n_neighbors=5)\n",
        "\n",
        "# Train the model\n",
        "knn.fit(X_train, y_train)\n",
        "\n",
        "# Make predictions on the testing set\n",
        "y_pred = knn.predict(X_test)\n",
        "\n",
        "# Print the confusion matrix\n",
        "confusion_matrix = confusion_matrix(y_test, y_pred)\n",
        "print(\"Confusion Matrix:\\n\", confusion_matrix)\n",
        "\n",
        "# Calculate additional classification metrics (optional)\n",
        "from sklearn.metrics import accuracy_score, precision_score, recall_score, f1_score\n",
        "\n",
        "accuracy = accuracy_score(y_test, y_pred)\n",
        "precision = precision_score(y_test, y_pred, average='weighted')\n",
        "recall = recall_score(y_test, y_pred, average='weighted')\n",
        "f1 = f1_score(y_test, y_pred, average='weighted')\n",
        "\n",
        "print(\"Accuracy:\", accuracy)\n",
        "print(\"Precision:\", precision)\n",
        "print(\"Recall:\", recall)\n",
        "print(\"F1-Score:\", f1)\n"
      ],
      "metadata": {
        "id": "1H1nV8VKxK_q",
        "outputId": "32fa5412-8d46-44e4-bd4d-6597386fd7ed",
        "colab": {
          "base_uri": "https://localhost:8080/"
        }
      },
      "execution_count": 6,
      "outputs": [
        {
          "output_type": "stream",
          "name": "stdout",
          "text": [
            "Confusion Matrix:\n",
            " [[10  0  0]\n",
            " [ 0  9  0]\n",
            " [ 0  0 11]]\n",
            "Accuracy: 1.0\n",
            "Precision: 1.0\n",
            "Recall: 1.0\n",
            "F1-Score: 1.0\n"
          ]
        }
      ]
    },
    {
      "cell_type": "code",
      "source": [],
      "metadata": {
        "id": "z-RVboGJ1nkE"
      },
      "execution_count": null,
      "outputs": []
    }
  ]
}