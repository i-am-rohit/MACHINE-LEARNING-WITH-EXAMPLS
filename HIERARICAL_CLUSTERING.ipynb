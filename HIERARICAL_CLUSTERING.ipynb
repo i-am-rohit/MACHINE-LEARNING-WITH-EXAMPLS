{
  "nbformat": 4,
  "nbformat_minor": 0,
  "metadata": {
    "colab": {
      "provenance": []
    },
    "kernelspec": {
      "name": "python3",
      "display_name": "Python 3"
    },
    "language_info": {
      "name": "python"
    }
  },
  "cells": [
    {
      "cell_type": "markdown",
      "source": [
        "Hierarchical clustering is a data mining technique used to group data points into a hierarchy of clusters. Unlike K-means which requires specifying the number of clusters beforehand, hierarchical clustering builds a hierarchy that you can then interpret to determine the number of clusters or explore the relationships between data points.<br><br>\n",
        "\n",
        "Here's a breakdown of the two main approaches in hierarchical clustering:<br><br>\n",
        "\n",
        "1. Agglomerative (Bottom-up):<br><br>\n",
        "\n",
        "-- Starts by considering each data point as a separate cluster.<br>\n",
        "--In each step, it merges the two closest clusters based on a distance metric (e.g., Euclidean distance).<br>\n",
        "--The process continues until all data points belong to a single cluster.<br>\n",
        "--The result is a tree-like structure called a dendrogram, where the height of a merge in the dendrogram represents the distance between the merged clusters.<br><br>\n",
        "2. Divisive (Top-down):<br><br>\n",
        "\n",
        "--Starts with all data points in a single cluster.<br>\n",
        "--In each step, it recursively splits the most heterogeneous cluster into two sub-clusters.<br>\n",
        "--The process continues until each cluster contains a single data point.<br>\n",
        "--The result is also a dendrogram, but it represents the distance at which clusters were split."
      ],
      "metadata": {
        "id": "9QJxhEAl7Hm6"
      }
    },
    {
      "cell_type": "code",
      "source": [
        "# Load the Iris flower classification dataset\n",
        "iris = load_iris()\n",
        "X = iris.data  # Features\n",
        "y = iris.target  # Target variable (flower type)\n",
        "\n",
        "# Create a hierarchical clustering model with Ward linkage\n",
        "model = AgglomerativeClustering(n_clusters=3, linkage='ward')\n",
        "\n",
        "# Fit the model to the data\n",
        "model.fit(X)\n",
        "\n",
        "# Get cluster labels for each data point\n",
        "cluster_labels = model.labels_\n",
        "\n",
        "# Print some results\n",
        "print(\"Cluster labels:\", cluster_labels)\n",
        "\n"
      ],
      "metadata": {
        "colab": {
          "base_uri": "https://localhost:8080/"
        },
        "id": "Sy_6weHvAE89",
        "outputId": "7d5ed7c7-20ef-48d3-f038-a910a819fa9c"
      },
      "execution_count": 18,
      "outputs": [
        {
          "output_type": "stream",
          "name": "stdout",
          "text": [
            "Cluster labels: [1 1 1 1 1 1 1 1 1 1 1 1 1 1 1 1 1 1 1 1 1 1 1 1 1 1 1 1 1 1 1 1 1 1 1 1 1\n",
            " 1 1 1 1 1 1 1 1 1 1 1 1 1 0 0 0 0 0 0 0 0 0 0 0 0 0 0 0 0 0 0 0 0 0 0 0 0\n",
            " 0 0 0 2 0 0 0 0 0 0 0 0 0 0 0 0 0 0 0 0 0 0 0 0 0 0 2 0 2 2 2 2 0 2 2 2 2\n",
            " 2 2 0 0 2 2 2 2 0 2 0 2 0 2 2 0 0 2 2 2 2 2 0 0 2 2 2 0 2 2 2 0 2 2 2 0 2\n",
            " 2 0]\n"
          ]
        }
      ]
    },
    {
      "cell_type": "code",
      "source": [
        "# Update the scipy.cluster.hierarchy module\n",
        "\n",
        "# Import the necessary modules\n",
        "import scipy.cluster.hierarchy as sch\n",
        "import matplotlib.pyplot as plt\n",
        "\n",
        "# Sample data (replace with your actual data)\n",
        "X = [[1, 2], [3, 4], [1.5, 1.8], [5, 8], [8, 8], [1, 0.6], [9, 11]]\n",
        "\n",
        "# Linkage matrix calculation (important step)\n",
        "distance_matrix = sch.distance.pdist(X)  # Calculate pairwise distances between data points\n",
        "linkage_matrix = sch.linkage(distance_matrix, method='ward')  # Perform ward linkage clustering\n",
        "\n",
        "# Optional: Define the number of clusters for cutting the dendrogram (can be adjusted)\n",
        "n_clusters = 3\n",
        "\n",
        "# Dendrogram plotting\n",
        "plt.figure(figsize=(10, 6))\n",
        "plt.title('Dendrogram')\n",
        "dendrogram = sch.dendrogram(linkage_matrix, no_plot=False, truncate_mode='lastp', p=n_clusters)  # Cut at n_clusters\n",
        "\n",
        "# Customize dendrogram labels (optional)\n",
        "plt.xlabel(\"Sample Index\")\n",
        "plt.ylabel(\"Distance\")\n",
        "plt.show()"
      ],
      "metadata": {
        "colab": {
          "base_uri": "https://localhost:8080/",
          "height": 603
        },
        "id": "MJpHp-3i2L2n",
        "outputId": "5f6827d2-2a36-4308-9925-86747caac122"
      },
      "execution_count": 21,
      "outputs": [
        {
          "output_type": "stream",
          "name": "stdout",
          "text": [
            "Requirement already satisfied: scipy in /usr/local/lib/python3.10/dist-packages (1.13.1)\n",
            "Requirement already satisfied: numpy<2.3,>=1.22.4 in /usr/local/lib/python3.10/dist-packages (from scipy) (1.25.2)\n"
          ]
        },
        {
          "output_type": "display_data",
          "data": {
            "text/plain": [
              "<Figure size 1000x600 with 1 Axes>"
            ],
            "image/png": "[encoded data removed]"
          },
          "metadata": {}
        }
      ]
    },
    {
      "cell_type": "code",
      "source": [
        "def divisive_clustering(data, distance_metric, k):\n",
        "  \"\"\"\n",
        "  Performs divisive hierarchical clustering on the given data.\n",
        "\n",
        "  Args:\n",
        "      data: A list of data points (represented as lists or numpy arrays).\n",
        "      distance_metric: A function that calculates the distance between two data points.\n",
        "      k: The desired number of clusters.\n",
        "\n",
        "  Returns:\n",
        "      A list of clusters, where each cluster is a list of data points.\n",
        "  \"\"\"\n",
        "\n",
        "  # Base case: If only one data point remains, return it as a cluster.\n",
        "  if len(data) == 1:\n",
        "    return [data]\n",
        "\n",
        "  # Find the farthest pair of data points in the current data set.\n",
        "  farthest_distance = float('-inf')\n",
        "  farthest_i = None\n",
        "  farthest_j = None\n",
        "  for i in range(len(data)):\n",
        "    for j in range(i + 1, len(data)):\n",
        "      dist = distance_metric(data[i], data[j])\n",
        "      if dist > farthest_distance:\n",
        "        farthest_distance = dist\n",
        "        farthest_i = i\n",
        "        farthest_j = j\n",
        "\n",
        "  # Split the data into two clusters based on the farthest pair.\n",
        "  cluster1 = [data[i] for i in range(len(data)) if i != farthest_i and i != farthest_j]\n",
        "  cluster2 = [data[farthest_i], data[farthest_j]]\n",
        "\n",
        "  # Recursively cluster the two sub-clusters until k clusters are obtained.\n",
        "  if k > 2:\n",
        "    clusters1 = divisive_clustering(cluster1, distance_metric, k-1)\n",
        "    clusters2 = divisive_clustering(cluster2, distance_metric, 1)  # Single cluster for the other half\n",
        "    return clusters1 + clusters2\n",
        "  else:\n",
        "    return [cluster1, cluster2]\n",
        "\n",
        "# Example usage (replace with your data and distance metric)\n",
        "data = [[1, 2], [3, 4], [1.5, 1.8], [5, 8], [8, 8], [1, 0.6], [9, 11]]\n",
        "\n",
        "def euclidean_distance(p1, p2):\n",
        "  return ((p1[0] - p2[0])**2 + (p1[1] - p2[1])**2)**0.5\n",
        "\n",
        "clusters = divisive_clustering(data, euclidean_distance, 3)\n",
        "\n",
        "# Print the resulting clusters\n",
        "print(\"Clusters:\", clusters)\n"
      ],
      "metadata": {
        "id": "1trtAWVdHPLZ",
        "outputId": "286bc2a5-4738-467c-e13d-a4fd5e82ba06",
        "colab": {
          "base_uri": "https://localhost:8080/"
        }
      },
      "execution_count": 24,
      "outputs": [
        {
          "output_type": "stream",
          "name": "stdout",
          "text": [
            "Clusters: [[[3, 4], [1.5, 1.8], [5, 8]], [[1, 2], [8, 8]], [], [[1, 0.6], [9, 11]]]\n"
          ]
        }
      ]
    },
    {
      "cell_type": "code",
      "source": [],
      "metadata": {
        "id": "CnKsw-eBH5Mj"
      },
      "execution_count": null,
      "outputs": []
    }
  ]
}