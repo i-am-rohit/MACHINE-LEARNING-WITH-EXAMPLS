{
  "nbformat": 4,
  "nbformat_minor": 0,
  "metadata": {
    "colab": {
      "provenance": []
    },
    "kernelspec": {
      "name": "python3",
      "display_name": "Python 3"
    },
    "language_info": {
      "name": "python"
    }
  },
  "cells": [
    {
      "cell_type": "markdown",
      "source": [
        "AdaBoost, short for Adaptive Boosting, is a machine learning algorithm used for classification and regression tasks. It falls under the category of ensemble methods, which combine multiple \"weak learners\" to create a more robust \"strong learner.\"<br><br>\n",
        "\n",
        "Benefits:\n",
        "\n",
        "Improved Accuracy: By combining multiple weak learners, AdaBoost can often achieve better classification or regression performance compared to a single model.<br>\n",
        "Flexibility: It can work with various types of weak learners, making it adaptable to different data types and problems.<br>\n",
        "Robust to Outliers: By focusing on correcting errors from previous models, AdaBoost can be less sensitive to outliers in the data compared to some other learning algorithms. <br><br>\n",
        "\n",
        "Drawbacks:\n",
        "\n",
        "Computationally Expensive: Training multiple models can be computationally expensive, especially for large datasets.<br>\n",
        "Sensitive to Noise: AdaBoost can be sensitive to noisy data, as assigning high weights to noisy examples can lead to poor performance.<br>\n",
        "Overfitting: If the weak learners are too complex or the number of iterations is too high, AdaBoost can potentially overfit the training data."
      ],
      "metadata": {
        "id": "CjRv2R_a6y3f"
      }
    },
    {
      "cell_type": "code",
      "source": [
        "from sklearn.ensemble import AdaBoostClassifier\n",
        "from sklearn.datasets import load_iris\n",
        "from sklearn.model_selection import train_test_split\n",
        "from sklearn.metrics import accuracy_score, classification_report\n",
        "\n",
        "# Load the Iris flower classification dataset\n",
        "iris = load_iris()\n",
        "X = iris.data  # Features\n",
        "y = iris.target  # Target variable (flower type)\n",
        "\n",
        "# Split data into training and testing sets\n",
        "X_train, X_test, y_train, y_test = train_test_split(X, y, test_size=0.2, random_state=42)\n",
        "\n",
        "# Create an AdaBoostClassifier model with decision tree base learners\n",
        "model = AdaBoostClassifier(n_estimators=50)  # Number of weak learners\n",
        "\n",
        "# Train the model\n",
        "model.fit(X_train, y_train)\n",
        "\n",
        "# Make predictions on the testing set\n",
        "y_pred = model.predict(X_test)\n",
        "\n",
        "# Evaluate the model performance\n",
        "accuracy = accuracy_score(y_test, y_pred)\n",
        "classification_report_result = classification_report(y_test, y_pred)\n",
        "\n",
        "print(\"Accuracy:\", accuracy)\n",
        "print(\"Classification Report:\\n\", classification_report_result)\n"
      ],
      "metadata": {
        "id": "GakgbRL2624x",
        "outputId": "dad6edc6-3541-4419-8c73-be9f3df72464",
        "colab": {
          "base_uri": "https://localhost:8080/"
        }
      },
      "execution_count": 1,
      "outputs": [
        {
          "output_type": "stream",
          "name": "stdout",
          "text": [
            "Accuracy: 1.0\n",
            "Classification Report:\n",
            "               precision    recall  f1-score   support\n",
            "\n",
            "           0       1.00      1.00      1.00        10\n",
            "           1       1.00      1.00      1.00         9\n",
            "           2       1.00      1.00      1.00        11\n",
            "\n",
            "    accuracy                           1.00        30\n",
            "   macro avg       1.00      1.00      1.00        30\n",
            "weighted avg       1.00      1.00      1.00        30\n",
            "\n"
          ]
        }
      ]
    },
    {
      "cell_type": "code",
      "source": [],
      "metadata": {
        "id": "__GPaOsS7Gi9"
      },
      "execution_count": null,
      "outputs": []
    }
  ]
}