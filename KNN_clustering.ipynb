{
  "nbformat": 4,
  "nbformat_minor": 0,
  "metadata": {
    "colab": {
      "provenance": []
    },
    "kernelspec": {
      "name": "python3",
      "display_name": "Python 3"
    },
    "language_info": {
      "name": "python"
    }
  },
  "cells": [
    {
      "cell_type": "code",
      "source": [
        "import numpy as np\n",
        "\n",
        "def knn_clustering(data, k, distance_metric):\n",
        "  \"\"\"\n",
        "  Performs KNN clustering on the given data.\n",
        "\n",
        "  Args:\n",
        "      data: A NumPy array representing the data points (with features as columns).\n",
        "      k: The number of nearest neighbors to consider.\n",
        "      distance_metric: A function that calculates the distance between two data points.\n",
        "\n",
        "  Returns:\n",
        "      A list containing the cluster labels for each data point.\n",
        "  \"\"\"\n",
        "\n",
        "  # Calculate pairwise distances between all data points\n",
        "  distances = np.zeros((data.shape[0], data.shape[0]))\n",
        "  for i in range(data.shape[0]):\n",
        "    for j in range(i + 1, data.shape[0]):\n",
        "      distances[i, j] = distance_metric(data[i], data[j])\n",
        "      distances[j, i] = distances[i, j]  # Fill the other half for symmetry\n",
        "\n",
        "  # Cluster label initialization (all -1 for unassigned)\n",
        "  cluster_labels = np.full(data.shape[0], -1, dtype=int)\n",
        "\n",
        "  # Iterate over each data point\n",
        "  for i in range(data.shape[0]):\n",
        "    # Find the K nearest neighbors\n",
        "    nearest_neighbors = np.argsort(distances[i])[:k]\n",
        "\n",
        "    # Majority vote for cluster label (or average features for unlabeled data)\n",
        "    neighbor_labels = cluster_labels[nearest_neighbors]\n",
        "    unique_labels, counts = np.unique(neighbor_labels, return_counts=True)\n",
        "    if len(unique_labels) == 0:  # Handle case with no labeled neighbors (create new cluster)\n",
        "      cluster_labels[i] = len(set(cluster_labels))\n",
        "    else:\n",
        "      # Most frequent label among neighbors\n",
        "      majority_label = unique_labels[np.argmax(counts)]\n",
        "      cluster_labels[i] = majority_label\n",
        "\n",
        "  return cluster_labels\n",
        "\n",
        "# Example usage (replace with your data and distance metric)\n",
        "data = np.array([[1, 2], [3, 4], [1.5, 1.8], [5, 8], [8, 8], [1, 0.6], [9, 11]])\n",
        "\n",
        "def euclidean_distance(p1, p2):\n",
        "  return ((p1[0] - p2[0])**2 + (p1[1] - p2[1])**2)**0.5\n",
        "\n",
        "clusters = knn_clustering(data, 3, euclidean_distance)\n",
        "\n",
        "# Print the cluster labels for each data point\n",
        "print(\"Cluster labels:\", clusters)\n"
      ],
      "metadata": {
        "id": "TukH0FkyIXnz",
        "outputId": "a17b3909-c6ec-4d09-d1cc-b1aeff2f676a",
        "colab": {
          "base_uri": "https://localhost:8080/"
        }
      },
      "execution_count": 25,
      "outputs": [
        {
          "output_type": "stream",
          "name": "stdout",
          "text": [
            "Cluster labels: [-1 -1 -1 -1 -1 -1 -1]\n"
          ]
        }
      ]
    },
    {
      "cell_type": "code",
      "source": [
        "from sklearn.neighbors import KNeighborsClassifier\n",
        "\n",
        "def knn_clustering(data, k, distance_metric):\n",
        "  \"\"\"\n",
        "  Performs KNN clustering on the given data using scikit-learn's KNeighborsClassifier.\n",
        "\n",
        "  Args:\n",
        "      data: A NumPy array representing the data points.\n",
        "      k: The number of nearest neighbors to consider.\n",
        "      distance_metric: A string representing the distance metric ('euclidean', 'manhattan', etc.).\n",
        "\n",
        "  Returns:\n",
        "      A list containing the cluster labels for each data point.\n",
        "  \"\"\"\n",
        "\n",
        "  # Create a dummy target variable (all zeros)\n",
        "  dummy_target = np.zeros(data.shape[0])\n",
        "\n",
        "  # KNN classifier with specified k and distance metric\n",
        "  knn = KNeighborsClassifier(n_neighbors=k, metric=distance_metric)\n",
        "\n",
        "  # Fit the classifier with dummy target variable\n",
        "  knn.fit(data, dummy_target)\n",
        "\n",
        "  # Leverage KNeighborsClassifier's kneighbors method for efficient neighbor finding\n",
        "  _, neighbors = knn.kneighbors(data)\n",
        "\n",
        "  # Cluster label assignment based on majority vote among K nearest neighbors\n",
        "  cluster_labels = []\n",
        "  for neighbor_indices in neighbors:\n",
        "    neighbor_labels = knn.classes_[neighbor_indices]  # Access labels of neighbors\n",
        "    unique_labels, counts = np.unique(neighbor_labels, return_counts=True)\n",
        "    majority_label = unique"
      ],
      "metadata": {
        "id": "IsiTGpkEIY8M"
      },
      "execution_count": 27,
      "outputs": []
    },
    {
      "cell_type": "code",
      "source": [
        "print(cluster_labels)"
      ],
      "metadata": {
        "id": "_2Ozg_kQIovC",
        "outputId": "c7aad0fd-4d43-4571-cf98-15aaaf1e518d",
        "colab": {
          "base_uri": "https://localhost:8080/"
        }
      },
      "execution_count": 28,
      "outputs": [
        {
          "output_type": "stream",
          "name": "stdout",
          "text": [
            "[1 1 1 1 1 1 1 1 1 1 1 1 1 1 1 1 1 1 1 1 1 1 1 1 1 1 1 1 1 1 1 1 1 1 1 1 1\n",
            " 1 1 1 1 1 1 1 1 1 1 1 1 1 0 0 0 0 0 0 0 0 0 0 0 0 0 0 0 0 0 0 0 0 0 0 0 0\n",
            " 0 0 0 2 0 0 0 0 0 0 0 0 0 0 0 0 0 0 0 0 0 0 0 0 0 0 2 0 2 2 2 2 0 2 2 2 2\n",
            " 2 2 0 0 2 2 2 2 0 2 0 2 0 2 2 0 0 2 2 2 2 2 0 0 2 2 2 0 2 2 2 0 2 2 2 0 2\n",
            " 2 0]\n"
          ]
        }
      ]
    },
    {
      "cell_type": "code",
      "source": [],
      "metadata": {
        "id": "6iYmDjBaI6AT"
      },
      "execution_count": null,
      "outputs": []
    }
  ]
}