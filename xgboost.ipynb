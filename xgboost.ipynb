{
  "nbformat": 4,
  "nbformat_minor": 0,
  "metadata": {
    "colab": {
      "provenance": []
    },
    "kernelspec": {
      "name": "python3",
      "display_name": "Python 3"
    },
    "language_info": {
      "name": "python"
    }
  },
  "cells": [
    {
      "cell_type": "markdown",
      "source": [
        "XGBoost, which stands for eXtreme Gradient Boosting, is a powerful open-source machine learning library known for its efficiency, flexibility, and ability to achieve state-of-the-art results in various tasks. It implements the gradient boosting algorithm, which is an ensemble method that combines multiple weak learners (often decision trees) to create a strong learner. Here's a deeper dive into XGBoost:"
      ],
      "metadata": {
        "id": "ESkGcQiyDPeP"
      }
    },
    {
      "cell_type": "code",
      "source": [
        "import xgboost as xgb\n",
        "from sklearn.metrics import mean_squared_error\n",
        "from sklearn.model_selection import train_test_split\n",
        "\n",
        "# Sample data (replace with your data)\n",
        "X = [[1, 2, 3], [4, 5, 6], [7, 8, 9], [10, 11, 12]]\n",
        "y = [10, 14, 18, 22]  # Target variable\n",
        "\n",
        "# Split data into training and testing sets\n",
        "X_train, X_test, y_train, y_test = train_test_split(X, y, test_size=0.2, random_state=42)\n",
        "\n",
        "# Define evaluation metric (RMSE) as a custom function\n",
        "def rmse(y_true, y_pred):\n",
        "  return mean_squared_error(y_true, y_pred, squared=False)  # Avoids squaring the error\n",
        "\n",
        "# Create DMatrix for XGBoost (sparse matrix representation)\n",
        "dtrain = xgb.DMatrix(X_train, label=y_train)\n",
        "dtest = xgb.DMatrix(X_test, label=y_test)\n",
        "\n",
        "# Set up XGBoost parameters\n",
        "params = {\n",
        "  'objective': 'reg:squarederror',  # Regression objective with squared error\n",
        "  'eval_metric': 'rmse',  # Use RMSE for evaluation during training\n",
        "  'max_depth': 3,  # Maximum depth of decision trees\n",
        "  'n_estimators': 100,  # Number of boosting iterations\n",
        "  'learning_rate': 0.1  # Learning rate for updates\n",
        "}\n",
        "\n",
        "# Train the XGBoost model\n",
        "model = xgb.train(params, dtrain, verbose=False)  # Set verbose to True for training progress\n",
        "\n",
        "# Make predictions on the testing set\n",
        "y_pred = model.predict(dtest)\n",
        "\n",
        "# Evaluate the model performance using RMSE\n",
        "rmse_score = rmse(y_test, y_pred)\n",
        "print(\"Root Mean Squared Error (RMSE):\", rmse_score)\n"
      ],
      "metadata": {
        "colab": {
          "base_uri": "https://localhost:8080/"
        },
        "id": "GakgbRL2624x",
        "outputId": "128f6351-6bf5-49a4-87ba-2621ae85d1f1"
      },
      "execution_count": 3,
      "outputs": [
        {
          "output_type": "stream",
          "name": "stdout",
          "text": [
            "Accuracy: 1.0\n"
          ]
        }
      ]
    },
    {
      "cell_type": "code",
      "source": [],
      "metadata": {
        "id": "nvBK7SR5DRt5"
      },
      "execution_count": null,
      "outputs": []
    },
    {
      "cell_type": "code",
      "source": [],
      "metadata": {
        "id": "__GPaOsS7Gi9"
      },
      "execution_count": null,
      "outputs": []
    }
  ]
}