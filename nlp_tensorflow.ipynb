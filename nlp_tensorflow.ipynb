{
  "nbformat": 4,
  "nbformat_minor": 0,
  "metadata": {
    "colab": {
      "provenance": [],
      "gpuType": "T4"
    },
    "kernelspec": {
      "name": "python3",
      "display_name": "Python 3"
    },
    "language_info": {
      "name": "python"
    },
    "accelerator": "GPU"
  },
  "cells": [
    {
      "cell_type": "code",
      "source": [
        "from tensorflow.keras.preprocessing.text import Tokenizer"
      ],
      "metadata": {
        "id": "sDkxHFlfQMqh"
      },
      "execution_count": 1,
      "outputs": []
    },
    {
      "cell_type": "code",
      "source": [
        "sentences = ['I love my cat',\n",
        "             'I love my dog']"
      ],
      "metadata": {
        "id": "EZRA8bl2RACO"
      },
      "execution_count": 2,
      "outputs": []
    },
    {
      "cell_type": "code",
      "source": [
        "token = Tokenizer(num_words=100, oov_token='<OOV>')"
      ],
      "metadata": {
        "id": "_WDWat6aROrd"
      },
      "execution_count": 3,
      "outputs": []
    },
    {
      "cell_type": "code",
      "source": [
        "token.fit_on_texts(sentences)"
      ],
      "metadata": {
        "id": "x6LOYms8RZfM"
      },
      "execution_count": 4,
      "outputs": []
    },
    {
      "cell_type": "code",
      "source": [
        "index = token.word_index"
      ],
      "metadata": {
        "id": "ufJeR0kARmNc"
      },
      "execution_count": 5,
      "outputs": []
    },
    {
      "cell_type": "code",
      "source": [
        "print(index)"
      ],
      "metadata": {
        "id": "c5ZI_Vu2Rr9W",
        "outputId": "3f2aea7d-178a-4028-c7b4-f15e6e34b1b7",
        "colab": {
          "base_uri": "https://localhost:8080/"
        }
      },
      "execution_count": 6,
      "outputs": [
        {
          "output_type": "stream",
          "name": "stdout",
          "text": [
            "{'<OOV>': 1, 'i': 2, 'love': 3, 'my': 4, 'cat': 5, 'dog': 6}\n"
          ]
        }
      ]
    },
    {
      "cell_type": "code",
      "source": [
        "sequences = token.texts_to_sequences(sentences)"
      ],
      "metadata": {
        "id": "_s6UR36RRt0k"
      },
      "execution_count": 7,
      "outputs": []
    },
    {
      "cell_type": "code",
      "source": [
        "print(sequences)"
      ],
      "metadata": {
        "id": "26emhML4Tkp9",
        "outputId": "09ce1006-65a9-4859-c5b1-196fdd49e5ec",
        "colab": {
          "base_uri": "https://localhost:8080/"
        }
      },
      "execution_count": 8,
      "outputs": [
        {
          "output_type": "stream",
          "name": "stdout",
          "text": [
            "[[2, 3, 4, 5], [2, 3, 4, 6]]\n"
          ]
        }
      ]
    },
    {
      "cell_type": "code",
      "source": [
        "test = token.texts_to_sequences(['I really love my dog', 'My dog love to play with ball'])"
      ],
      "metadata": {
        "id": "xiec_U_pTnoT"
      },
      "execution_count": 9,
      "outputs": []
    },
    {
      "cell_type": "code",
      "source": [
        "print(test)"
      ],
      "metadata": {
        "id": "T51-INYaUdna",
        "outputId": "53989d44-5d6a-43e1-d7a4-3a49669b1b90",
        "colab": {
          "base_uri": "https://localhost:8080/"
        }
      },
      "execution_count": 10,
      "outputs": [
        {
          "output_type": "stream",
          "name": "stdout",
          "text": [
            "[[2, 1, 3, 4, 6], [4, 6, 3, 1, 1, 1, 1]]\n"
          ]
        }
      ]
    },
    {
      "cell_type": "code",
      "source": [
        "from tensorflow.keras.preprocessing.sequence import pad_sequences\n",
        "\n",
        "# Use the pad_sequences function\n",
        "padded_sequences = pad_sequences(sequences, maxlen=5)"
      ],
      "metadata": {
        "id": "Z4zD1UA4UfRa"
      },
      "execution_count": 11,
      "outputs": []
    },
    {
      "cell_type": "code",
      "source": [
        "padded = pad_sequences(test, padding='pre')"
      ],
      "metadata": {
        "id": "FLLlmNOhXBWR"
      },
      "execution_count": 14,
      "outputs": []
    },
    {
      "cell_type": "code",
      "source": [
        "print(padded)"
      ],
      "metadata": {
        "id": "EIGcWG9Ealkn",
        "outputId": "7d0cdbed-3e74-4f4d-97f5-78b809878d0b",
        "colab": {
          "base_uri": "https://localhost:8080/"
        }
      },
      "execution_count": 15,
      "outputs": [
        {
          "output_type": "stream",
          "name": "stdout",
          "text": [
            "[[0 0 2 1 3 4 6]\n",
            " [4 6 3 1 1 1 1]]\n"
          ]
        }
      ]
    },
    {
      "cell_type": "code",
      "source": [
        ""
      ],
      "metadata": {
        "id": "2A02tmo0aqLX"
      },
      "execution_count": 13,
      "outputs": []
    }
  ]
}